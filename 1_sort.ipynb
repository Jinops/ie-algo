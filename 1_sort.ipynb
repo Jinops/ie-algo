{
 "cells": [
  {
   "cell_type": "markdown",
   "id": "dcace8c7",
   "metadata": {},
   "source": [
    "## Selection sort"
   ]
  },
  {
   "cell_type": "markdown",
   "id": "c1cc9fd8",
   "metadata": {},
   "source": [
    "– 최대 원소를 찾는다 <br/>\n",
    "– 최대 원소와 맨 오른쪽 원소를 교환한다 <br/>\n",
    "– 맨 오른쪽 원소를 제외한다 <br/>\n",
    "(오른쪽부터 채워넣는, 오름차순 정렬)"
   ]
  },
  {
   "cell_type": "code",
   "execution_count": 13,
   "id": "b3ed293c",
   "metadata": {},
   "outputs": [
    {
     "name": "stdout",
     "output_type": "stream",
     "text": [
      "[29, 10, 14, 37, 13]\n",
      "0 [29, 10, 14, 13] [37]\n",
      "1 [13, 10, 14] [29, 37]\n",
      "2 [13, 10] [14, 29, 37]\n",
      "3 [10] [13, 14, 29, 37]\n",
      "4 [] [10, 13, 14, 29, 37]\n"
     ]
    },
    {
     "data": {
      "text/plain": [
       "[10, 13, 14, 29, 37]"
      ]
     },
     "execution_count": 13,
     "metadata": {},
     "output_type": "execute_result"
    }
   ],
   "source": [
    "# 1\n",
    "def selection_sort(arr):\n",
    "    for i in range(0, len(arr)):\n",
    "        max_idx = 0 # 최대값이 위치하는 idx\n",
    "        last_idx = len(arr)-1-i # (정렬되지 않은) 가장 마지막 idx\n",
    "        for j in range(1, len(arr)-i):\n",
    "            if arr[j]>arr[max_idx]:\n",
    "                max_idx = j\n",
    "        arr[last_idx], arr[max_idx] = arr[max_idx], arr[last_idx]\n",
    "        print(i, arr[:last_idx], arr[last_idx:]) # 과정\n",
    "    return arr\n",
    "\n",
    "arr = [29, 10, 14, 37, 13]\n",
    "print(arr)\n",
    "selection_sort(arr)"
   ]
  },
  {
   "cell_type": "code",
   "execution_count": 15,
   "id": "170baf29",
   "metadata": {},
   "outputs": [
    {
     "name": "stdout",
     "output_type": "stream",
     "text": [
      "[29, 10, 14, 37, 13]\n",
      "4 [29, 10, 14, 13] [37]\n",
      "3 [13, 10, 14] [29, 37]\n",
      "2 [13, 10] [14, 29, 37]\n",
      "1 [10] [13, 14, 29, 37]\n"
     ]
    },
    {
     "data": {
      "text/plain": [
       "[10, 13, 14, 29, 37]"
      ]
     },
     "execution_count": 15,
     "metadata": {},
     "output_type": "execute_result"
    }
   ],
   "source": [
    "# 2\n",
    "def selection_sort(arr):\n",
    "    for last_idx in range(len(arr)-1, 0, -1): # 현재 탐색 영역의 마지막 idx\n",
    "        max_idx = 0 # 현재 가장 큰 값이 있는 idx\n",
    "        \n",
    "        for i in range(1, last_idx+1): # 탐색\n",
    "            if arr[i] > arr[max_idx]:\n",
    "                max_idx = i\n",
    "                \n",
    "        arr[max_idx], arr[last_idx] = arr[last_idx], arr[max_idx]\n",
    "        print(i, arr[:last_idx], arr[last_idx:]) # 과정\n",
    "\n",
    "    return arr\n",
    "\n",
    "arr = [29, 10, 14, 37, 13]\n",
    "print(arr)\n",
    "selection_sort(arr)"
   ]
  },
  {
   "cell_type": "markdown",
   "id": "1ab6f025",
   "metadata": {},
   "source": [
    "## Bubble sort"
   ]
  },
  {
   "cell_type": "markdown",
   "id": "d0cc5aa6",
   "metadata": {},
   "source": [
    "바로 옆 원소간 비교를 통해 첫번째로 정렬된 값이 맨 뒤로 가고(고정되고), 다시 반복한다. <br/>\n",
    "(오른쪽부터 채워넣는, 오름차순 졍렬)"
   ]
  },
  {
   "cell_type": "code",
   "execution_count": 2,
   "id": "d66141f9",
   "metadata": {
    "scrolled": true
   },
   "outputs": [
    {
     "name": "stdout",
     "output_type": "stream",
     "text": [
      "[3, 31, 48, 73, 8, 11, 20, 29, 65, 15]\n",
      "0 [3, 31, 48, 8, 11, 20, 29, 65, 15] [73]\n",
      "1 [3, 31, 8, 11, 20, 29, 48, 15] [65, 73]\n",
      "2 [3, 8, 11, 20, 29, 31, 15] [48, 65, 73]\n",
      "3 [3, 8, 11, 20, 29, 15] [31, 48, 65, 73]\n",
      "4 [3, 8, 11, 20, 15] [29, 31, 48, 65, 73]\n",
      "5 [3, 8, 11, 15] [20, 29, 31, 48, 65, 73]\n",
      "6 [3, 8, 11] [15, 20, 29, 31, 48, 65, 73]\n",
      "7 [3, 8] [11, 15, 20, 29, 31, 48, 65, 73]\n",
      "8 [3] [8, 11, 15, 20, 29, 31, 48, 65, 73]\n",
      "9 [] [3, 8, 11, 15, 20, 29, 31, 48, 65, 73]\n"
     ]
    },
    {
     "data": {
      "text/plain": [
       "[3, 8, 11, 15, 20, 29, 31, 48, 65, 73]"
      ]
     },
     "execution_count": 2,
     "metadata": {},
     "output_type": "execute_result"
    }
   ],
   "source": [
    "# 1\n",
    "def bubble_sort(arr):\n",
    "    for i in range(0, len(arr)):\n",
    "        last_idx = len(arr)-i-1\n",
    "        for j in range(0, last_idx): # 마지막값은 정렬된 것이므로 제외\n",
    "            if arr[j] > arr[j+1]: # 큰 값을 뒤로 이동\n",
    "                arr[j], arr[j+1] = arr[j+1], arr[j]\n",
    "        print(i, arr[:last_idx], arr[last_idx:]) # 과정\n",
    "    return arr\n",
    "\n",
    "arr = [3, 31, 48, 73, 8, 11, 20, 29, 65, 15]\n",
    "print(arr)\n",
    "bubble_sort(arr)"
   ]
  },
  {
   "cell_type": "code",
   "execution_count": 16,
   "id": "1c08c5a7",
   "metadata": {},
   "outputs": [
    {
     "name": "stdout",
     "output_type": "stream",
     "text": [
      "[3, 31, 48, 73, 8, 11, 20, 29, 65, 15]\n",
      "9 [3, 31, 48, 8, 11, 20, 29, 65, 15] [73]\n",
      "8 [3, 31, 8, 11, 20, 29, 48, 15] [65, 73]\n",
      "7 [3, 8, 11, 20, 29, 31, 15] [48, 65, 73]\n",
      "6 [3, 8, 11, 20, 29, 15] [31, 48, 65, 73]\n",
      "5 [3, 8, 11, 20, 15] [29, 31, 48, 65, 73]\n",
      "4 [3, 8, 11, 15] [20, 29, 31, 48, 65, 73]\n",
      "3 [3, 8, 11] [15, 20, 29, 31, 48, 65, 73]\n",
      "2 [3, 8] [11, 15, 20, 29, 31, 48, 65, 73]\n",
      "1 [3] [8, 11, 15, 20, 29, 31, 48, 65, 73]\n"
     ]
    },
    {
     "data": {
      "text/plain": [
       "[3, 8, 11, 15, 20, 29, 31, 48, 65, 73]"
      ]
     },
     "execution_count": 16,
     "metadata": {},
     "output_type": "execute_result"
    }
   ],
   "source": [
    "# 2\n",
    "def bubble_sort(arr):\n",
    "    for last_idx in range(len(arr)-1, 0, -1): # 채워넣어질 idx\n",
    "        \n",
    "        for i in range(1, last_idx+1):\n",
    "            if arr[i-1] > arr[i]: # 바로 전 값이 더 크면, 둘이 위치 교체\n",
    "                arr[i-1], arr[i] = arr[i], arr[i-1]\n",
    "                \n",
    "        print(i, arr[:last_idx], arr[last_idx:]) # 과정\n",
    "    return arr\n",
    "        \n",
    "arr = [3, 31, 48, 73, 8, 11, 20, 29, 65, 15]\n",
    "print(arr)\n",
    "bubble_sort(arr)"
   ]
  },
  {
   "cell_type": "markdown",
   "id": "b5a4a118",
   "metadata": {},
   "source": [
    "## Insert sort"
   ]
  },
  {
   "cell_type": "markdown",
   "id": "d33f576e",
   "metadata": {},
   "source": [
    "두 번째 자료부터 시작하여 바로 앞의 자료들과 비교한다.<br/>\n",
    "삽입할 위치를 찾으면 그 이후의 자료들을 뒤로 옮기고 자료를 삽입한다. (밀어넣기) <br/>\n",
    "(왼쪽으로 밀어넣는, 오름차순)"
   ]
  },
  {
   "cell_type": "code",
   "execution_count": 20,
   "id": "4cf7fb3c",
   "metadata": {},
   "outputs": [
    {
     "name": "stdout",
     "output_type": "stream",
     "text": [
      "[29, 10, 14, 37, 13]\n",
      "1 [10, 29] [14, 37, 13]\n",
      "2 [10, 14, 29] [37, 13]\n",
      "3 [10, 14, 29, 37] [13]\n"
     ]
    },
    {
     "data": {
      "text/plain": [
       "[10, 14, 29, 37, 13]"
      ]
     },
     "execution_count": 20,
     "metadata": {},
     "output_type": "execute_result"
    }
   ],
   "source": [
    "# 1\n",
    "def insert_sort(arr):\n",
    "    for i in range(1, len(arr)-1):\n",
    "        target_idx = i-1\n",
    "        base = arr[i]\n",
    "        while target_idx >= 0 and base < arr[target_idx]: # 기준 값이 더 작으면\n",
    "            arr[target_idx+1] = arr[target_idx] # 목표 값들을 뒤로 한 칸 씩 민다.\n",
    "            target_idx -= 1\n",
    "        arr[target_idx+1] = base\n",
    "        print(i, arr[:i+1], arr[i+1:])\n",
    "    return arr\n",
    "\n",
    "arr = [29, 10, 14, 37, 13]\n",
    "print(arr)\n",
    "insert_sort(arr)"
   ]
  },
  {
   "cell_type": "code",
   "execution_count": 21,
   "id": "ab972430",
   "metadata": {},
   "outputs": [
    {
     "name": "stdout",
     "output_type": "stream",
     "text": [
      "[29, 10, 14, 37, 13]\n",
      "1 [10, 29] [14, 37, 13]\n",
      "2 [10, 14, 29] [37, 13]\n",
      "3 [10, 14, 29, 37] [13]\n"
     ]
    },
    {
     "data": {
      "text/plain": [
       "[10, 14, 29, 37, 13]"
      ]
     },
     "execution_count": 21,
     "metadata": {},
     "output_type": "execute_result"
    }
   ],
   "source": [
    "# 2\n",
    "def insert_sort(arr):\n",
    "    for i in range(1, len(arr)-1):\n",
    "        base = arr[i]\n",
    "        target_idx = i-1\n",
    "        \n",
    "        while target_idx >= 0 and base < arr[target_idx]:\n",
    "            arr[target_idx+1] = arr[target_idx]\n",
    "            target_idx -= 1\n",
    "            \n",
    "        arr[target_idx+1] = base\n",
    "        print(i, arr[:i+1], arr[i+1:])\n",
    "        \n",
    "    return arr\n",
    "\n",
    "arr = [29, 10, 14, 37, 13]\n",
    "print(arr)\n",
    "insert_sort(arr)"
   ]
  },
  {
   "cell_type": "markdown",
   "id": "12313baf",
   "metadata": {},
   "source": [
    "## Merge sort"
   ]
  },
  {
   "cell_type": "markdown",
   "id": "e9986fd9",
   "metadata": {},
   "source": [
    "배열을 절반으로 나누고, 나눠진 두 배열의 요소들로 정렬을 하여 다시 합친다. <br/>\n",
    "왼,오른쪽 배열이 1개씩으로 최대로 나눠진 뒤부터 정렬이 시작되므로, 이 정렬 과정 속 두 배열은 이미 정렬된 상태이다."
   ]
  },
  {
   "cell_type": "code",
   "execution_count": 27,
   "id": "125e7133",
   "metadata": {
    "scrolled": true
   },
   "outputs": [
    {
     "name": "stdout",
     "output_type": "stream",
     "text": [
      "[31, 3, 65, 73, 8, 11, 20, 29, 48, 15]\n",
      "# [31] [3] -> [3, 31]\n",
      "# [3, 31] [65] -> [3, 31, 65]\n",
      "# [73] [8] -> [8, 73]\n",
      "# [3, 31, 65] [8, 73] -> [3, 8, 31, 65, 73]\n",
      "# [11] [20] -> [11, 20]\n",
      "# [11, 20] [29] -> [11, 20, 29]\n",
      "# [48] [15] -> [15, 48]\n",
      "# [11, 20, 29] [15, 48] -> [11, 15, 20, 29, 48]\n",
      "# [3, 8, 31, 65, 73] [11, 15, 20, 29, 48] -> [3, 8, 11, 15, 20, 29, 31, 48, 65, 73]\n"
     ]
    },
    {
     "data": {
      "text/plain": [
       "[3, 8, 11, 15, 20, 29, 31, 48, 65, 73]"
      ]
     },
     "execution_count": 27,
     "metadata": {},
     "output_type": "execute_result"
    }
   ],
   "source": [
    "# 1 (better)\n",
    "def merge_sort(arr, start, end): # start, end는 index\n",
    "    if(start < end):\n",
    "        mid = int((start+end)/2)\n",
    "        merge_sort(arr, start, mid)\n",
    "        merge_sort(arr, mid+1, end)\n",
    "        merge(arr, start, mid, end)\n",
    "    return arr # 최종 결과 반환용 (없어도 됨)\n",
    "\n",
    "def merge(arr, start, mid, end): # 두 배열의 값들을 정렬하며 merge. 각 배열은 정렬이 되어 있어야 함!\n",
    "    arr_left = arr[start:mid+1] # 왼쪽 배열\n",
    "    arr_right = arr[mid+1:end+1] # 오른쪽 배열\n",
    "    result = []\n",
    "\n",
    "    while len(arr_left) > 0 and len(arr_right) > 0: # 두 배열의 원소가 없어질 때 까지\n",
    "        if arr_left[0] < arr_right[0]: # 작은 원소를 result에 넣고 배열에서 제거\n",
    "            result.append(arr_left.pop(0))\n",
    "        else:\n",
    "            result.append(arr_right.pop(0))\n",
    "\n",
    "    result.extend(arr_left if len(arr_left) > 0 else arr_right) # 남은 원소는 그 뒤로 그대로 이어주기.\n",
    "    print('#', arr[start:mid+1], arr[mid+1:end+1], '->', result)\n",
    "    arr[start:end+1] = result\n",
    "    \n",
    " \n",
    "arr = [31, 3, 65, 73, 8, 11, 20, 29, 48, 15]\n",
    "print(arr)\n",
    "merge_sort(arr, 0, len(arr)-1)"
   ]
  },
  {
   "cell_type": "code",
   "execution_count": null,
   "id": "06ff0633",
   "metadata": {},
   "outputs": [],
   "source": [
    "# 2 (worse)\n",
    "def merge_sort(arr, start, end):\n",
    "    if start >= end:\n",
    "        return\n",
    "    mid = int((start+end)/2)\n",
    "    merge_sort(arr, start, mid)\n",
    "    merge_sort(arr, mid+1, end)\n",
    "    merge(arr, start, mid, end)\n",
    "    return arr\n",
    "\n",
    "def merge(arr, start, mid, end): # mid는 왼쪽배열의 마지막 idx\n",
    "    l_start = start\n",
    "    l_end = mid\n",
    "    r_start = mid+1\n",
    "    r_end = end\n",
    "    \n",
    "    get_len = lambda start, end : end-start+1 \n",
    "    result = []\n",
    "    \n",
    "    while get_len(l_start, l_end) > 0 and get_len(r_start, r_end):\n",
    "        if arr[l_start] < arr[r_start]:\n",
    "            result.append(arr[l_start])\n",
    "            l_start +=1\n",
    "        else:\n",
    "            result.append(arr[r_start])\n",
    "            r_start +=1\n",
    "            \n",
    "    for remain in range(l_start, l_end+1):\n",
    "        result.append(arr[remain])\n",
    "    for remain in range(r_start, r_end+1):\n",
    "        result.append(arr[remain])\n",
    "        \n",
    "    arr[start:end+1] = result\n",
    "\n",
    "arr = [31, 3, 65, 73, 8, 11, 20, 29, 48, 15]\n",
    "print(arr)\n",
    "merge_sort(arr, 0, len(arr)-1)\n",
    "    "
   ]
  },
  {
   "cell_type": "markdown",
   "id": "95427ee2",
   "metadata": {},
   "source": [
    "## Quick sort"
   ]
  },
  {
   "cell_type": "markdown",
   "id": "94e95887",
   "metadata": {},
   "source": [
    "마지막 원소를 기준으로하여, 작은 수는 왼쪽, 큰 수는 오른쪽으로 나눈다. 그 뒤 기준값과 큰수의 첫째값 위치를 바꾼다. <br/>\n",
    "나눠진 두 배열(영역)에서, 이를 다시 반복한다."
   ]
  },
  {
   "cell_type": "code",
   "execution_count": 30,
   "id": "4fc3baae",
   "metadata": {},
   "outputs": [
    {
     "name": "stdout",
     "output_type": "stream",
     "text": [
      "[31, 8, 48, 73, 11, 3, 20, 29, 65, 15]\n",
      "[8, 11, 3] 15 [31, 48, 20, 29, 65, 73]\n",
      "[] 3 [11, 8]\n",
      "[] 8 [11]\n",
      "[31, 48, 20, 29, 65] 73 []\n",
      "[31, 48, 20, 29] 65 []\n",
      "[20] 29 [31, 48]\n",
      "[31] 48 []\n"
     ]
    },
    {
     "data": {
      "text/plain": [
       "[3, 8, 11, 15, 20, 29, 31, 48, 65, 73]"
      ]
     },
     "execution_count": 30,
     "metadata": {},
     "output_type": "execute_result"
    }
   ],
   "source": [
    "# 1 (better)\n",
    "def quick_sort(arr, start, end):\n",
    "    if start < end:\n",
    "        start_r = partition(arr, start, end) # 우측 시작점\n",
    "        quick_sort(arr, start, start_r-1)\n",
    "        quick_sort(arr, start_r+1, end)\n",
    "    return arr\n",
    "\n",
    "def partition(arr, start, end): # start, end는 index\n",
    "    base = arr[end]\n",
    "    mid = start - 1 # 모든 수가 base보다 크다는 가정으로 초기값 지정\n",
    "    for i in range(start, end):\n",
    "        if arr[i] < base: # base보다 작은 수가 있다면\n",
    "            mid += 1 # mid 좌표값을 한 칸 옮기고\n",
    "            arr[mid], arr[i] = arr[i], arr[mid] #왼쪽(작은쪽) 마지막(mid)에 넣어준다.\n",
    "    # 정렬이 끝나면 마지막(base)값을 큰 수 맨앞(mid)으로 이동시키고, 원래 있던 수는 가장 마지막으로 보낸다.\n",
    "    mid += 1 # 기존 mid는 작은 수(왼쪽)들 중 맨뒤이므로, +1\n",
    "    arr[end], arr[mid] = arr[mid], arr[end]\n",
    "    print(arr[start:mid], arr[mid], arr[mid+1:end+1])\n",
    "    \n",
    "    return mid # 오른쪽 index가 시작하는 지점을 return한다\n",
    "        \n",
    "arr = [31, 8, 48, 73, 11, 3, 20, 29, 65, 15]\n",
    "print(arr)\n",
    "quick_sort(arr, 0, len(arr)-1)"
   ]
  },
  {
   "cell_type": "code",
   "execution_count": null,
   "id": "8faa6e81",
   "metadata": {},
   "outputs": [],
   "source": [
    "# 2 (worse)\n",
    "def quick_sort(arr, start, end):\n",
    "    if start >= end:\n",
    "        return\n",
    "    mid = partition(arr, start, end)\n",
    "    quick_sort(arr, start, mid-1)\n",
    "    quick_sort(arr, mid+1, end)\n",
    "    return arr\n",
    "\n",
    "def partition(arr, start, end):\n",
    "    base = arr[end]\n",
    "    mid = start - 1 # mid는 나눠지는 위치, 초기값은 모든 수가 오른쪽(큰 영역)에 있음을 가정\n",
    "    for i in range(start, end):\n",
    "        if arr[i] < base:\n",
    "            mid += 1\n",
    "            if mid != i:\n",
    "                arr[mid], arr[i] = arr[i], arr[mid]\n",
    "    mid += 1\n",
    "    arr[mid], arr[end] = arr[end], arr[mid]\n",
    "    print(arr[start:mid], arr[mid], arr[mid+1:end+1])\n",
    "    \n",
    "    return mid\n",
    "\n",
    "arr = [31, 8, 48, 73, 11, 3, 20, 29, 65, 15]\n",
    "print(arr)\n",
    "quick_sort(arr, 0, len(arr)-1)"
   ]
  }
 ],
 "metadata": {
  "kernelspec": {
   "display_name": "Python 3 (ipykernel)",
   "language": "python",
   "name": "python3"
  },
  "language_info": {
   "codemirror_mode": {
    "name": "ipython",
    "version": 3
   },
   "file_extension": ".py",
   "mimetype": "text/x-python",
   "name": "python",
   "nbconvert_exporter": "python",
   "pygments_lexer": "ipython3",
   "version": "3.9.13"
  }
 },
 "nbformat": 4,
 "nbformat_minor": 5
}
