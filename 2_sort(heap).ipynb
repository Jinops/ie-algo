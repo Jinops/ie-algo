{
 "cells": [
  {
   "cell_type": "markdown",
   "id": "a5e0e152",
   "metadata": {},
   "source": [
    "<i>오름차순 heap</i>"
   ]
  },
  {
   "cell_type": "markdown",
   "id": "f5d24631",
   "metadata": {},
   "source": [
    "### Heap 배열 만들기"
   ]
  },
  {
   "cell_type": "code",
   "execution_count": 32,
   "id": "3bef8c6c",
   "metadata": {},
   "outputs": [
    {
     "data": {
      "text/plain": [
       "[3, 8, 4, 9, 10, 7]"
      ]
     },
     "execution_count": 32,
     "metadata": {},
     "output_type": "execute_result"
    }
   ],
   "source": [
    "def heapify(arr, idx, max_idx): \n",
    "    left = 1 + idx*2 # 왼쪽 노드의 index\n",
    "    right = 1 + idx*2 + 1 # 오른쪽 노드의 index\n",
    "    \n",
    "    if left > max_idx: # 자식이 없는 경우\n",
    "        return\n",
    "    \n",
    "    smaller = left # 더 작은 값이 들어있는 index\n",
    "    if right <= max_idx and arr[left] > arr[right]:\n",
    "        smaller = right\n",
    "    \n",
    "    if arr[smaller] < arr[idx]: # 부모보다 자식이 더 작다면\n",
    "        arr[smaller], arr[idx] = arr[idx], arr[smaller] # 값을 바꿔주고 (작은 것을 부모로)\n",
    "        heapify(arr, smaller, max_idx) # 재귀적으로 heapify\n",
    "\n",
    "def build_heap(arr):\n",
    "    for i in range(len(arr)//2-1, -1, -1):\n",
    "        heapify(arr, i, len(arr)-1)\n",
    "    return arr\n",
    "\n",
    "arr = [7,6,4,8,9,3]\n",
    "arr = [7,8,4,9,10,3]\n",
    "build_heap(arr)"
   ]
  },
  {
   "cell_type": "markdown",
   "id": "f136c4e7",
   "metadata": {},
   "source": [
    "### Heap 정렬하기"
   ]
  },
  {
   "cell_type": "markdown",
   "id": "57cc42cf",
   "metadata": {},
   "source": [
    "힙 배열의 첫번째 원소를 꺼내고, \n",
    "<br/>남은 배열의 마지막 요소를 0번째로 옮긴 뒤 다시 힙 배열화하는 것을 반복하여 <br/> \n",
    "최소값을 계속 구해 정렬이 가능하다."
   ]
  },
  {
   "cell_type": "code",
   "execution_count": 28,
   "id": "adbb3bd8",
   "metadata": {},
   "outputs": [
    {
     "name": "stdout",
     "output_type": "stream",
     "text": [
      "[3, 7, 6, 4, 8, 9]\n"
     ]
    },
    {
     "data": {
      "text/plain": [
       "[8, 9, 7, 6, 4, 3]"
      ]
     },
     "execution_count": 28,
     "metadata": {},
     "output_type": "execute_result"
    }
   ],
   "source": [
    "def heap_sort(arr, is_asc=False):\n",
    "    build_heap(arr)\n",
    "    \n",
    "    if is_asc:\n",
    "        for i in range(1,len(arr)-1):\n",
    "            arr[len(arr)-1], arr[i] = arr[i], arr[len(arr)-1]\n",
    "            heapify(arr, i+1, len(arr)-1)\n",
    "        return arr\n",
    "        \n",
    "    for i in range(len(arr)-1, 1, -1):\n",
    "        arr[0], arr[i] = arr[i], arr[0] # 여기서는 꺼낸 값과 마지막 요소의 위치를 바꾸고\n",
    "        heapify(arr, 0, i-1) # 마지막으로 옮긴(정렬된) 값을 제외하고 다시 heapfiy를 한다.\n",
    "    return arr\n",
    "\n",
    "arr = [7,6,4,8,9,3]\n",
    "print(heap_sort(arr, True))\n",
    "\n",
    "arr = [7,6,4,8,9,3]\n",
    "heap_sort(arr)\n"
   ]
  },
  {
   "cell_type": "markdown",
   "id": "4e7e4ddc",
   "metadata": {},
   "source": [
    "(참고) 그리기 함수"
   ]
  },
  {
   "cell_type": "code",
   "execution_count": 31,
   "id": "c41044b5",
   "metadata": {},
   "outputs": [
    {
     "name": "stdout",
     "output_type": "stream",
     "text": [
      "3 \n",
      "6 4 \n",
      "8 9 7 "
     ]
    }
   ],
   "source": [
    "def draw(arr):\n",
    "    depth = 1\n",
    "    depth_draw = 1\n",
    "    for i in range(len(arr)):\n",
    "        print(arr[i], end=' ')\n",
    "        depth_draw -= 1\n",
    "        if depth_draw == 0:\n",
    "            depth_draw = 2**depth\n",
    "            depth += 1\n",
    "            print()\n",
    "\n",
    "draw(arr)"
   ]
  }
 ],
 "metadata": {
  "kernelspec": {
   "display_name": "Python 3 (ipykernel)",
   "language": "python",
   "name": "python3"
  },
  "language_info": {
   "codemirror_mode": {
    "name": "ipython",
    "version": 3
   },
   "file_extension": ".py",
   "mimetype": "text/x-python",
   "name": "python",
   "nbconvert_exporter": "python",
   "pygments_lexer": "ipython3",
   "version": "3.9.13"
  }
 },
 "nbformat": 4,
 "nbformat_minor": 5
}
