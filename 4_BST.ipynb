{
 "cells": [
  {
   "cell_type": "markdown",
   "metadata": {
    "colab_type": "text",
    "id": "view-in-github"
   },
   "source": [
    "<a href=\"https://colab.research.google.com/github/Jinops/ie-algo/blob/main/BST.ipynb\" target=\"_parent\"><img src=\"https://colab.research.google.com/assets/colab-badge.svg\" alt=\"Open In Colab\"/></a>"
   ]
  },
  {
   "cell_type": "markdown",
   "metadata": {
    "id": "nYTDEe9paV7J"
   },
   "source": [
    "### BST"
   ]
  },
  {
   "cell_type": "code",
   "execution_count": 14,
   "metadata": {
    "id": "xM-WUvm0YxRR"
   },
   "outputs": [],
   "source": [
    "class Node():\n",
    "  def __init__(self, key):\n",
    "    self.key = key      # node의 key값\n",
    "    self.left = None    # node의 left child\n",
    "    self.right = None   # node의 right child"
   ]
  },
  {
   "cell_type": "markdown",
   "metadata": {},
   "source": [
    "참고) 트리 그리기\n"
   ]
  },
  {
   "cell_type": "code",
   "execution_count": 15,
   "metadata": {
    "id": "2Eg7pX4ndDhE"
   },
   "outputs": [],
   "source": [
    "import queue\n",
    "\n",
    "def print_tree(t):\n",
    "    if t == None:\n",
    "      return\n",
    "\n",
    "    Q = queue.Queue()             # 파이썬 큐 모듈의 큐 객체 생성\n",
    "    Q.put(t)                      # 시작 노드 s를 Queue에 추가\n",
    "    while not Q.empty():          # 큐에 (자식을 찾을) 항목이 남아있는 동안\n",
    "        u = Q.get()               # 큐의 맨 앞에서 정점 u를 하나 추출하여\n",
    "        print(u.key, end=\" - \")   # 자신의 key 값 출력하고\n",
    "        if u.left != None:        # 왼쪽 자식이 있으면 key 값 출력하고\n",
    "          Q.put(u.left)\n",
    "          print(u.left.key, end=\"\")\n",
    "        print(\"\", end=\" - \")      # 오른쪽 자식이 있으면 key 값 출력함\n",
    "        if u.right != None:\n",
    "          Q.put(u.right)\n",
    "          print(u.right.key, end=\"\")\n",
    "        print()\n"
   ]
  },
  {
   "cell_type": "markdown",
   "metadata": {
    "id": "qShj8qBoa3ov"
   },
   "source": [
    "#### 삽입"
   ]
  },
  {
   "cell_type": "code",
   "execution_count": 19,
   "metadata": {
    "colab": {
     "base_uri": "https://localhost:8080/"
    },
    "id": "il0t5y1QaVYn",
    "outputId": "6341b41e-2003-442a-eda4-4a7b9e0dbe6b"
   },
   "outputs": [
    {
     "name": "stdout",
     "output_type": "stream",
     "text": [
      "30 - 20 - 40\n",
      "20 - 10 - 25\n",
      "40 - 35 - \n",
      "10 -  - \n",
      "25 -  - \n",
      "35 -  - \n"
     ]
    }
   ],
   "source": [
    "def insert(node, x):\n",
    "    if node == None: # 빈 노드일 때 (부모 노드가 되어야 할 때)\n",
    "        return Node(x)\n",
    "    if x < node.key: # 추가하고자 하는 값이 더 작으면 왼쪽으로\n",
    "        node.left = insert(node.left, x)\n",
    "    else:\n",
    "        node.right = insert(node.right, x)\n",
    "    return node\n",
    "\n",
    "def make_tree(keys):\n",
    "    tree = None\n",
    "    for key in keys:\n",
    "        tree = insert(tree, key)\n",
    "    return tree\n",
    "\n",
    "keys = [30, 20, 25, 40, 10, 35]\n",
    "tree = make_tree(keys)\n",
    "print_tree(tree)"
   ]
  },
  {
   "cell_type": "markdown",
   "metadata": {
    "id": "3eZSoHh_dX1f"
   },
   "source": [
    "#### 검색"
   ]
  },
  {
   "cell_type": "code",
   "execution_count": 17,
   "metadata": {
    "colab": {
     "base_uri": "https://localhost:8080/"
    },
    "id": "DyHD1yuidYHi",
    "outputId": "fea5f5d4-1aea-455e-deaf-e2cffe3be595"
   },
   "outputs": [
    {
     "name": "stdout",
     "output_type": "stream",
     "text": [
      "30 20 40\n"
     ]
    }
   ],
   "source": [
    "def search(node, x, parent=None):\n",
    "  if node == None or node.key == x: # 없으면 None, 있으면 Node 객체 리턴\n",
    "    return node, parent\n",
    "  if x < node.key: # 찾고자 하는 값이 더 작으면 왼쪽으로\n",
    "    return search(node.left, x, node)\n",
    "  else:\n",
    "    return search(node.right, x, node)\n",
    "\n",
    "key = 30\n",
    "n = search(tree, key)[0]\n",
    "print(n.key, n.left.key, n.right.key)"
   ]
  },
  {
   "cell_type": "markdown",
   "metadata": {
    "id": "JhPG_zf4etwt"
   },
   "source": [
    "#### 삭제"
   ]
  },
  {
   "cell_type": "code",
   "execution_count": 18,
   "metadata": {
    "colab": {
     "base_uri": "https://localhost:8080/"
    },
    "id": "6Osbmly-ethD",
    "outputId": "13c79d33-bdab-4fc9-dd5e-3574e21d7490"
   },
   "outputs": [
    {
     "name": "stdout",
     "output_type": "stream",
     "text": [
      "30 - 20 - 40\n",
      "20 - 10 - 25\n",
      "40 - 35 - \n",
      "10 -  - \n",
      "25 -  - \n",
      "35 -  - \n",
      "# delete 40\n",
      "30 - 20 - 35\n",
      "20 - 10 - 25\n",
      "35 -  - \n",
      "10 -  - \n",
      "25 -  - \n",
      "# delete 20\n",
      "30 - 25 - 35\n",
      "25 - 10 - \n",
      "35 -  - \n",
      "10 -  - \n",
      "# delete 35\n",
      "30 - 25 - \n",
      "25 - 10 - \n",
      "10 -  - \n",
      "# delete 30\n",
      "25 - 10 - \n",
      "10 -  - \n"
     ]
    }
   ],
   "source": [
    "def treeDelete(tree, target_node, parent_node):      # t: 루트 노드, r: 삭제 노드, p: 삭제 노드의 부모 노드\n",
    "  if target_node == tree: # 지우려는 node가 루트(tree)인 경우\n",
    "    tree = deleteNode(target_node)\n",
    "  elif target_node == parent_node.left:\n",
    "    parent_node.left = deleteNode(target_node)\n",
    "  elif target_node == parent_node.right:\n",
    "    parent_node.right = deleteNode(target_node)\n",
    "  return tree\n",
    "def deleteNode(node):\n",
    "  if node.left == None and node.right == None: # 자식이 아예 없다면\n",
    "    return None\n",
    "  if node.left == None: # 오른쪽 자식이 있다면\n",
    "    return node.right\n",
    "  if node.right == None: # 왼쪽 자식이 있다면\n",
    "    return node.left\n",
    "  else: # 자식이 모두 있는 경우\n",
    "    s = node.right # 1. 삭제하고자 하는 노드(node=r)의 오른쪽 노드로부터\n",
    "    while s.left != None: # 2. 가장 왼쪽의 노드(s)를 찾는다\n",
    "      s_parent = s\n",
    "      s = s.left\n",
    "    node.key = s.key # 3. 삭제할 node의 값을 s의 값으로 바꾸므로써 제거한다.\n",
    "    if node.right == s: # 4. 삭제한 node의 오른쪽 자식이 원래 s였다면 (즉, s의 왼쪽 원소가 전혀없어 위 while문에서 depth를 들어가지 않은 경우)\n",
    "      node.right = s.right # 한 칸 올라간 s 자리를 채운다.\n",
    "    elif s.right != None: # 5. (1depth 이상의 가장 왼쪽 노드인) 기존 s의 오른쪽에 node가 있었다면, 기존 s 부모의 왼쪽으로 붙여준다.\n",
    "      s_parent.left = s.right\n",
    "    return node\n",
    "\n",
    "tree = make_tree([30, 20, 25, 40, 10, 35])\n",
    "keys = [40, 20, 35, 30]\n",
    "print_tree(tree)\n",
    "for key in keys:\n",
    "  target_node, parent_node = search(tree, key)  # 삭제할 node 및 부모를 찾는다.\n",
    "  if target_node != None:\n",
    "    tree = treeDelete(tree, target_node, parent_node) # 노드 삭제\n",
    "    print('# delete', key)\n",
    "    print_tree(tree)"
   ]
  }
 ],
 "metadata": {
  "colab": {
   "authorship_tag": "ABX9TyOBMT6CHiUGYtYHyz3l2vK8",
   "include_colab_link": true,
   "provenance": []
  },
  "kernelspec": {
   "display_name": "Python 3 (ipykernel)",
   "language": "python",
   "name": "python3"
  },
  "language_info": {
   "codemirror_mode": {
    "name": "ipython",
    "version": 3
   },
   "file_extension": ".py",
   "mimetype": "text/x-python",
   "name": "python",
   "nbconvert_exporter": "python",
   "pygments_lexer": "ipython3",
   "version": "3.9.13"
  }
 },
 "nbformat": 4,
 "nbformat_minor": 1
}
