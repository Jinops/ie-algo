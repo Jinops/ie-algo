{
 "cells": [
  {
   "cell_type": "markdown",
   "id": "c98e8c4e",
   "metadata": {},
   "source": [
    "## 피보나치 수열"
   ]
  },
  {
   "cell_type": "markdown",
   "id": "95b91229",
   "metadata": {},
   "source": [
    "#### 재귀적 해법"
   ]
  },
  {
   "cell_type": "code",
   "execution_count": 9,
   "id": "558f7fc6",
   "metadata": {},
   "outputs": [
    {
     "data": {
      "text/plain": [
       "8"
      ]
     },
     "execution_count": 9,
     "metadata": {},
     "output_type": "execute_result"
    }
   ],
   "source": [
    "def fibo(n):\n",
    "    if n==1 or n==2:\n",
    "        return 1\n",
    "    return fibo(n-1)+fibo(n-2)\n",
    "\n",
    "fibo(6)"
   ]
  },
  {
   "cell_type": "markdown",
   "id": "7b076e97",
   "metadata": {},
   "source": [
    "#### bottom-up (dp)"
   ]
  },
  {
   "cell_type": "code",
   "execution_count": 10,
   "id": "3f288249",
   "metadata": {},
   "outputs": [
    {
     "data": {
      "text/plain": [
       "8"
      ]
     },
     "execution_count": 10,
     "metadata": {},
     "output_type": "execute_result"
    }
   ],
   "source": [
    "def fibo(n):\n",
    "    dp = [None]*n\n",
    "    dp[0] = 1\n",
    "    dp[1] = 1\n",
    "    \n",
    "    for i in range(2,n):\n",
    "        dp[i] = dp[i-1]+dp[i-2]\n",
    "    \n",
    "    return dp[n-1]\n",
    "\n",
    "fibo(6)"
   ]
  },
  {
   "cell_type": "markdown",
   "id": "7da455e0",
   "metadata": {},
   "source": [
    "#### top-down (dp) | 객체"
   ]
  },
  {
   "cell_type": "code",
   "execution_count": 14,
   "id": "08480fe0",
   "metadata": {},
   "outputs": [
    {
     "data": {
      "text/plain": [
       "8"
      ]
     },
     "execution_count": 14,
     "metadata": {},
     "output_type": "execute_result"
    }
   ],
   "source": [
    "dp={}\n",
    "\n",
    "def fibo(n):\n",
    "    if n in dp:\n",
    "        return dp[n]\n",
    "    if n==1 or n==2:\n",
    "        dp[n] = 1\n",
    "    else:\n",
    "        dp[n] = fibo(n-1) + fibo(n-2)\n",
    "    return dp[n]\n",
    "\n",
    "fibo(6)"
   ]
  },
  {
   "cell_type": "markdown",
   "id": "ddba9e50",
   "metadata": {},
   "source": [
    "#### top-down (dp) | 배열"
   ]
  },
  {
   "cell_type": "code",
   "execution_count": 20,
   "id": "e4b98a5f",
   "metadata": {},
   "outputs": [
    {
     "data": {
      "text/plain": [
       "8"
      ]
     },
     "execution_count": 20,
     "metadata": {},
     "output_type": "execute_result"
    }
   ],
   "source": [
    "def fibo(n):\n",
    "    if dp[n] != None:\n",
    "        return dp[n]\n",
    "    if n==1 or n==2:\n",
    "        return 1\n",
    "    dp[n] = fibo(n-1) + fibo(n-2)\n",
    "    return dp[n]\n",
    "\n",
    "num = 6\n",
    "dp = [None]*(num+1)\n",
    "fibo(num)"
   ]
  }
 ],
 "metadata": {
  "kernelspec": {
   "display_name": "Python 3 (ipykernel)",
   "language": "python",
   "name": "python3"
  },
  "language_info": {
   "codemirror_mode": {
    "name": "ipython",
    "version": 3
   },
   "file_extension": ".py",
   "mimetype": "text/x-python",
   "name": "python",
   "nbconvert_exporter": "python",
   "pygments_lexer": "ipython3",
   "version": "3.9.13"
  }
 },
 "nbformat": 4,
 "nbformat_minor": 5
}
