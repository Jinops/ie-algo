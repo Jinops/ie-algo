{
  "cells": [
    {
      "cell_type": "markdown",
      "metadata": {
        "id": "view-in-github",
        "colab_type": "text"
      },
      "source": [
        "<a href=\"https://colab.research.google.com/github/Jinops/ie-algo/blob/main/ch9_TopDownDP_HW.ipynb\" target=\"_parent\"><img src=\"https://colab.research.google.com/assets/colab-badge.svg\" alt=\"Open In Colab\"/></a>"
      ]
    },
    {
      "cell_type": "markdown",
      "id": "3680ef78",
      "metadata": {
        "id": "3680ef78"
      },
      "source": [
        "### 문제 예 2: 행렬 경로 문제 ###"
      ]
    },
    {
      "cell_type": "markdown",
      "source": [
        "#### (3) DP top-down ####"
      ],
      "metadata": {
        "id": "wBmiYj1xdv0h"
      },
      "id": "wBmiYj1xdv0h"
    },
    {
      "cell_type": "code",
      "source": [
        "import copy\n",
        "\n",
        "m1 = [[6,7,12,5], [5,3,11,18], [7,17,3,3], [8,10,14,9]]   # 교재의 예제\n",
        "m2 = [[6,7], [5,3], [7,17]]\n",
        "m3 = [[6,7,12,5], [5,3,11,18], [7,17,3,3], [8,10,14,9],\n",
        "      [6,7,12,5], [5,3,11,18], [7,17,3,3], [8,10,14,9]]\n",
        "\n",
        "m = m3     # m1, m2, m3로 바꿔가면서 테스트해볼 수 있음 40 31 66\n",
        "n1 = len(m)\n",
        "n2 = len(m[0])\n",
        "c = [[None]*n2 for x in range(n1)]\n",
        "\n",
        "def matrixPath_DP_TD(i,j):\n",
        "  # Top-Down 방식의 DP로 구현하시오.\n",
        "  if c[i][j] != None:\n",
        "    return c[i][j]\n",
        "  if i==0 and j==0:\n",
        "    c[i][j] = m[i][j]\n",
        "  elif i==0:\n",
        "    c[i][j] = matrixPath_DP_TD(i, j-1) + m[i][j]\n",
        "  elif j==0:\n",
        "    c[i][j] = matrixPath_DP_TD(i-1, j) + m[i][j]\n",
        "  else:\n",
        "    c[i][j] = min(matrixPath_DP_TD(i-1, j), matrixPath_DP_TD(i, j-1)) + m[i][j]\n",
        "  return c[i][j]\n",
        "\n",
        "print(len(m)-1, len(m[0])-1)\n",
        "matrixPath_DP_TD(len(m)-1, len(m[0])-1)"
      ],
      "metadata": {
        "colab": {
          "base_uri": "https://localhost:8080/"
        },
        "outputId": "50f98126-fc24-4719-d9cb-fb9a32b1d748",
        "id": "5lkbfPBld8Sf"
      },
      "execution_count": 1,
      "outputs": [
        {
          "output_type": "stream",
          "name": "stdout",
          "text": [
            "7 3\n"
          ]
        },
        {
          "output_type": "execute_result",
          "data": {
            "text/plain": [
              "66"
            ]
          },
          "metadata": {},
          "execution_count": 1
        }
      ],
      "id": "5lkbfPBld8Sf"
    },
    {
      "cell_type": "markdown",
      "id": "0a0541d6",
      "metadata": {
        "id": "0a0541d6"
      },
      "source": [
        "### 문제 예 3: 행렬 곱셈 순서 문제 ###"
      ]
    },
    {
      "cell_type": "markdown",
      "metadata": {
        "id": "Wkr19TkTm-Ck"
      },
      "source": [
        "#### (3) DP top-down ####"
      ],
      "id": "Wkr19TkTm-Ck"
    },
    {
      "cell_type": "code",
      "source": [
        "import time\n",
        "import math\n",
        "\n",
        "p1 = [10, 100, 5, 50]   # 교재의 예제로 10x100, 100x5, 5x50 행렬을 곱하는 경우\n",
        "p2 = [10, 100, 5]\n",
        "p3 = [10, 100, 5, 50, 10, 100, 5, 50, 10, 100, 5, 50, 10, 100, 5, 50]\n",
        "\n",
        "p = p3 # 7500 5000 75000(1.78sec)\n",
        "n = len(p)-1    # n: 행렬 개수\n",
        "mat = [[None]*(n+1) for x in range(n+1)]  # m[i][j]는 Ai~Aj를 곱하는 최소 비용\n",
        "\n",
        "def matrixChain_DP_TD(i, j):\n",
        "  # Top-Down 방식의 DP로 구현하시오.\n",
        "  if mat[i][j] != None:\n",
        "    return mat[i][j]\n",
        "  if i==j:\n",
        "    mat[i][j] = 0\n",
        "  else:\n",
        "    mat[i][j] = math.inf\n",
        "    for k in range(i, j):\n",
        "      mat[i][j] = min(mat[i][j], matrixChain_DP_TD(i, k) + matrixChain_DP_TD(k+1, j) + p[i-1]*p[k]*p[j])\n",
        "  return mat[i][j]\n",
        "\n",
        "start_time = time.time()\n",
        "print(matrixChain_DP_TD(1, len(p)-1))\n",
        "print(\"\\n %.5f sec.\" % (time.time() - start_time)) # 재귀적 호출에 비하여 시간이 1/1000 수준으로 단축됨"
      ],
      "metadata": {
        "id": "TluNrW56oCOJ",
        "colab": {
          "base_uri": "https://localhost:8080/"
        },
        "outputId": "15535e62-ce87-44ad-f9fd-72cba3b35045"
      },
      "id": "TluNrW56oCOJ",
      "execution_count": 2,
      "outputs": [
        {
          "output_type": "stream",
          "name": "stdout",
          "text": [
            "31250\n",
            "\n",
            " 0.00200 sec.\n"
          ]
        }
      ]
    },
    {
      "cell_type": "markdown",
      "id": "20912e6f",
      "metadata": {
        "id": "20912e6f"
      },
      "source": [
        "### 문제 예 4: 최장 공통 부분순서 (LCS) ###"
      ]
    },
    {
      "cell_type": "markdown",
      "metadata": {
        "id": "kE-FdHN27-WM"
      },
      "source": [
        "#### (3) DP top-down ####"
      ],
      "id": "kE-FdHN27-WM"
    },
    {
      "cell_type": "code",
      "source": [
        "X = \"abcbdab\"\n",
        "Y = \"bdcaba\"\n",
        "\n",
        "# Top-Down 방식의 DP로 구현하시오.\n",
        "\n",
        "dp =  [[None]*(len(Y)+1) for _ in range(len(X)+1)]\n",
        "\n",
        "def LCS2_DP_TD(m, n):  # m과 n은 비교할 개수\n",
        "  # Top-Down 방식의 DP로 구현하시오.\n",
        "  if dp[m][n] != None:\n",
        "    return dp[m][n]\n",
        "  if m==0 or n==0:\n",
        "    dp[m][n] = ''\n",
        "  elif X[m-1] == Y[n-1]:\n",
        "    dp[m][n] = LCS2_DP_TD(m-1, n-1) + X[m-1]\n",
        "  else:\n",
        "      str_m = LCS2_DP_TD(m, n-1)\n",
        "      str_n = LCS2_DP_TD(m-1, n)\n",
        "      dp[m][n] = str_m if (len(str_m) >= len(str_n)) else str_n\n",
        "\n",
        "  return dp[m][n]\n",
        "\n",
        "LCS2_DP_TD(len(X), len(Y))"
      ],
      "metadata": {
        "colab": {
          "base_uri": "https://localhost:8080/",
          "height": 36
        },
        "id": "qRSMhPVXTDAn",
        "outputId": "73a79570-89c7-4bef-8417-e0a58032160b"
      },
      "id": "qRSMhPVXTDAn",
      "execution_count": 14,
      "outputs": [
        {
          "output_type": "execute_result",
          "data": {
            "text/plain": [
              "'bdab'"
            ],
            "application/vnd.google.colaboratory.intrinsic+json": {
              "type": "string"
            }
          },
          "metadata": {},
          "execution_count": 14
        }
      ]
    }
  ],
  "metadata": {
    "kernelspec": {
      "display_name": "Python 3",
      "language": "python",
      "name": "python3"
    },
    "language_info": {
      "codemirror_mode": {
        "name": "ipython",
        "version": 3
      },
      "file_extension": ".py",
      "mimetype": "text/x-python",
      "name": "python",
      "nbconvert_exporter": "python",
      "pygments_lexer": "ipython3",
      "version": "3.8.8"
    },
    "colab": {
      "provenance": [],
      "include_colab_link": true
    }
  },
  "nbformat": 4,
  "nbformat_minor": 5
}