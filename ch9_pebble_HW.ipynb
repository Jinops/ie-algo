{
  "cells": [
    {
      "cell_type": "markdown",
      "metadata": {
        "id": "view-in-github",
        "colab_type": "text"
      },
      "source": [
        "<a href=\"https://colab.research.google.com/github/Jinops/ie-algo/blob/main/ch9_pebble_HW.ipynb\" target=\"_parent\"><img src=\"https://colab.research.google.com/assets/colab-badge.svg\" alt=\"Open In Colab\"/></a>"
      ]
    },
    {
      "cell_type": "markdown",
      "metadata": {
        "id": "HMR76-chOaFf"
      },
      "source": [
        "\n",
        "# 9장. 조약돌 풀이 #\n",
        "\n"
      ]
    },
    {
      "cell_type": "markdown",
      "metadata": {
        "id": "3K0HlLq8-tHl"
      },
      "source": [
        "팩토리얼"
      ]
    },
    {
      "cell_type": "code",
      "execution_count": null,
      "metadata": {
        "colab": {
          "base_uri": "https://localhost:8080/"
        },
        "id": "RaTH2Kgt-tHl",
        "outputId": "31471c07-9a35-4fdd-b96f-3d7a378c3cff"
      },
      "outputs": [
        {
          "output_type": "execute_result",
          "data": {
            "text/plain": [
              "6"
            ]
          },
          "metadata": {},
          "execution_count": 91
        }
      ],
      "source": [
        "def facto(n):\n",
        "    if n==1:\n",
        "        return 1\n",
        "    return n * facto(n-1)\n",
        "\n",
        "facto(3)"
      ]
    },
    {
      "cell_type": "markdown",
      "metadata": {
        "id": "DCOEp9yY-tHn"
      },
      "source": [
        "피보 (재귀)"
      ]
    },
    {
      "cell_type": "code",
      "execution_count": null,
      "metadata": {
        "colab": {
          "base_uri": "https://localhost:8080/"
        },
        "id": "VkwhHI8F-tHn",
        "outputId": "64e57bb5-e9df-4683-c3b3-243ed3481669"
      },
      "outputs": [
        {
          "output_type": "execute_result",
          "data": {
            "text/plain": [
              "8"
            ]
          },
          "metadata": {},
          "execution_count": 92
        }
      ],
      "source": [
        "def fibo(n):\n",
        "    if n==1 or n==2:\n",
        "        return 1\n",
        "    return fibo(n-1)+fibo(n-2)\n",
        "# 1 1 2 3 5 8\n",
        "fibo(6)"
      ]
    },
    {
      "cell_type": "markdown",
      "metadata": {
        "id": "Y8WOVVPW-tHn"
      },
      "source": [
        "피보 (dp: bottom-up)"
      ]
    },
    {
      "cell_type": "code",
      "execution_count": null,
      "metadata": {
        "id": "lHJAgktE-tHo"
      },
      "outputs": [],
      "source": [
        "def fibo_bu(n):\n",
        "    dp=[0]*(n+1)\n",
        "    dp[1] = 1\n",
        "    dp[2] = 1\n",
        "    for i in range(3, n+1):\n",
        "        dp[i] = dp[i-1]+dp[i-2]\n",
        "    return dp[n]"
      ]
    },
    {
      "cell_type": "markdown",
      "metadata": {
        "id": "KUKlP3-K-tHo"
      },
      "source": [
        "피보 (dp: top-down)"
      ]
    },
    {
      "cell_type": "code",
      "execution_count": null,
      "metadata": {
        "scrolled": true,
        "id": "7I0YES1i-tHo"
      },
      "outputs": [],
      "source": [
        "def fibo_td(n, dp=[]):\n",
        "    if len(dp)==0:\n",
        "        dp = [0]*(n+1)\n",
        "        dp[1] = 1\n",
        "        dp[2] = 1\n",
        "    if dp[n] != 0:\n",
        "        return dp[n]\n",
        "    else:\n",
        "        dp[n] = fibo_td(n-1, dp) + fibo_td(n-2, dp)\n",
        "    return dp[n]"
      ]
    },
    {
      "cell_type": "markdown",
      "metadata": {
        "id": "ogO5SZGl-tHp"
      },
      "source": [
        "시간 비교"
      ]
    },
    {
      "cell_type": "code",
      "execution_count": null,
      "metadata": {
        "colab": {
          "base_uri": "https://localhost:8080/"
        },
        "id": "7piVdlcC-tHp",
        "outputId": "ab471220-e076-4a61-acaf-bbb08ebddef5"
      },
      "outputs": [
        {
          "output_type": "stream",
          "name": "stdout",
          "text": [
            "facto:  720\n",
            "0.0021 sec.\n",
            "fibo:  6765\n",
            "0.0052 sec.\n",
            "fibo (bottom_up):  6765\n",
            "0.0002 sec.\n",
            "fibo (top_down):  6765\n",
            "0.0002 sec.\n"
          ]
        }
      ],
      "source": [
        "import time\n",
        "\n",
        "start_time = time.time()\n",
        "print(\"facto: \", facto(6))\n",
        "print(\"%.4f sec.\" % (time.time() - start_time))\n",
        "\n",
        "start_time = time.time()\n",
        "print(\"fibo: \", fibo(20))\n",
        "print(\"%.4f sec.\" % (time.time() - start_time))\n",
        "\n",
        "start_time = time.time()\n",
        "print(\"fibo (bottom_up): \", fibo_bu(20))\n",
        "print(\"%.4f sec.\" % (time.time() - start_time))\n",
        "\n",
        "start_time = time.time()\n",
        "print(\"fibo (top_down): \", fibo_td(20))\n",
        "print(\"%.4f sec.\" % (time.time() - start_time))"
      ]
    },
    {
      "cell_type": "markdown",
      "metadata": {
        "id": "tGfBEj5TOeb6"
      },
      "source": [
        "**(1) weight 계산하기 (두 가지 방법)**\n",
        "\n"
      ]
    },
    {
      "cell_type": "code",
      "execution_count": null,
      "metadata": {
        "colab": {
          "base_uri": "https://localhost:8080/"
        },
        "id": "5Vn19rcDymlm",
        "outputId": "26034bc4-f94c-4099-be13-585fbff0a796"
      },
      "outputs": [
        {
          "output_type": "execute_result",
          "data": {
            "text/plain": [
              "[[6, -8, 11, 17],\n",
              " [7, 10, 12, 19],\n",
              " [12, 14, 7, 19],\n",
              " [-5, 9, 4, -1],\n",
              " [5, 7, 8, 13],\n",
              " [3, 13, -2, 1],\n",
              " [11, 8, 9, 20],\n",
              " [3, 5, 4, 7]]"
            ]
          },
          "metadata": {},
          "execution_count": 96
        }
      ],
      "source": [
        "A1 = [[6,-8,11], [7,10,12],[12,14,7],[-5, 9, 4],[5, 7, 8],[3, 13, -2],[11, 8, 9],[3, 5, 4]]\n",
        "A2 = [[6,-8,11], [7,10,12],[12,14,7],[-5, 9, 4],[5, 7, 8],[3, 13, -2],[11, 8, 9],[3, 5, 4],\n",
        "     [6,-8,11], [7,10,12],[12,14,7],[-5, 9, 4],[5, 7, 8],[3, 13, -2],[11, 8, 9],[3, 5, 4]]\n",
        "\n",
        "def append_weight(A):\n",
        "    w = []\n",
        "    for i in range(len(A)):\n",
        "        pattern0 = A[i][0] # o x x\n",
        "        pattern1 = A[i][1] # x o x\n",
        "        pattern2 = A[i][2] # x x o\n",
        "        pattern3 = A[i][0] + A[i][2] # o x o\n",
        "        w.append([pattern0, pattern1, pattern2, pattern3])\n",
        "    return w\n",
        "\n",
        "w1 = append_weight(A1)\n",
        "w1"
      ]
    },
    {
      "cell_type": "markdown",
      "metadata": {
        "id": "1F9lopvOO7PR"
      },
      "source": [
        "**(2) Pebble 재귀적 호출 버전**\n",
        "\n"
      ]
    },
    {
      "cell_type": "code",
      "execution_count": null,
      "metadata": {
        "colab": {
          "base_uri": "https://localhost:8080/"
        },
        "id": "rdznZpdbDzon",
        "outputId": "5d4ec941-e225-40a0-e9f6-e633dae2f2a8"
      },
      "outputs": [
        {
          "output_type": "stream",
          "name": "stdout",
          "text": [
            "212\n",
            "\n",
            " 0.5288 sec.\n"
          ]
        }
      ],
      "source": [
        "def pebbleSum():\n",
        "    n = len(w)\n",
        "    m = [pebble(n-1,0), pebble(n-1,1), pebble(n-1,2), pebble(n-1,3)]\n",
        "    return max(m)\n",
        "\n",
        "def pebble(i, p):\n",
        "    if i == 0:\n",
        "        return w[0][p]\n",
        "    else:\n",
        "        M = None\n",
        "        for q in range(4):\n",
        "            if compatible(p, q):\n",
        "                tmp = pebble(i-1, q)\n",
        "                if M == None or tmp > M:\n",
        "                    M = tmp\n",
        "        return w[i][p]+M\n",
        "\n",
        "def compatible(p,q):\n",
        "    if p==0:\n",
        "        return q==1 or q==2\n",
        "    if p==1:\n",
        "        return q==0 or q==2 or q==3\n",
        "    if p==2:\n",
        "        return q==0 or q==1\n",
        "    if p==3:\n",
        "        return q==1\n",
        "    return False\n",
        "\n",
        "import time\n",
        "\n",
        "start_time = time.time()\n",
        "# w = append_weight(A1)\n",
        "w = append_weight(A2)\n",
        "print(pebbleSum())\n",
        "print(\"\\n %.4f sec.\" % (time.time() - start_time))"
      ]
    },
    {
      "cell_type": "markdown",
      "metadata": {
        "id": "lKKleQTEPMQc"
      },
      "source": [
        "**(3) Pebble DP (top-down) 버전**"
      ]
    },
    {
      "cell_type": "code",
      "execution_count": null,
      "metadata": {
        "colab": {
          "base_uri": "https://localhost:8080/"
        },
        "id": "BkppZWCw00Il",
        "outputId": "02de4eed-f8e5-4d5e-81c0-c4f8a3ba6f5e"
      },
      "outputs": [
        {
          "output_type": "stream",
          "name": "stdout",
          "text": [
            "212\n",
            "\n",
            " 0.0010 sec.\n"
          ]
        }
      ],
      "source": [
        "def pebbleSum_DP_topdown():\n",
        "  n = len(w)\n",
        "  m = [pebble_DP_topdown(n-1,0), pebble_DP_topdown(n-1,1), pebble_DP_topdown(n-1,2), pebble_DP_topdown(n-1,3)]\n",
        "  return max(m)\n",
        "\n",
        "def pebble_DP_topdown(i, p):\n",
        "  if i==0:\n",
        "    peb[0][p] = w[0][p]\n",
        "    return peb[0][p]\n",
        "\n",
        "  prev = []\n",
        "  for q in range(4):\n",
        "    if compatible(p,q):\n",
        "      if peb[i-1][q] == None:\n",
        "        pebble_DP_topdown(i-1, q)\n",
        "      prev.append(peb[i-1][q])\n",
        "\n",
        "  peb[i][p] = w[i][p] + max(prev)\n",
        "  return peb[i][p]\n",
        "\n",
        "start_time = time.time()\n",
        "# w = append_weight(A1)\n",
        "w = append_weight(A2)\n",
        "peb = [[None] * len(w[0]) for _ in range(len(w))]\n",
        "print(pebbleSum_DP_topdown())\n",
        "print(\"\\n %.4f sec.\" % (time.time() - start_time))"
      ]
    },
    {
      "cell_type": "markdown",
      "metadata": {
        "id": "YqYVSyJJPZeK"
      },
      "source": [
        "**(4) Pebble DP (bottom-up) 버전**"
      ]
    },
    {
      "cell_type": "code",
      "execution_count": null,
      "metadata": {
        "colab": {
          "base_uri": "https://localhost:8080/"
        },
        "id": "M__1-7eFDGeI",
        "outputId": "06937e3a-4afe-42f3-8611-cfa06efdcfda"
      },
      "outputs": [
        {
          "output_type": "stream",
          "name": "stdout",
          "text": [
            "212\n",
            "\n",
            " 0.0006 sec.\n"
          ]
        }
      ],
      "source": [
        "def pebbleSum_DP_bottomup():\n",
        "  for p in range(4):\n",
        "    peb[0][p] = w[0][p]\n",
        "  for i in range(1, len(w)):\n",
        "    for p in range(4):\n",
        "      prev=[]\n",
        "      for q in range(4):\n",
        "        if compatible(p,q):\n",
        "          prev.append(peb[i-1][q])\n",
        "      peb[i][p] = w[i][p] + max(prev)\n",
        "  return max(peb[len(w)-1])\n",
        "\n",
        "start_time = time.time()\n",
        "w = append_weight(A2)\n",
        "peb = [[None] * len(w[0]) for _ in range(len(w))]\n",
        "print(pebbleSum_DP_bottomup())\n",
        "print(\"\\n %.4f sec.\" % (time.time() - start_time))"
      ]
    }
  ],
  "metadata": {
    "colab": {
      "provenance": [],
      "include_colab_link": true
    },
    "kernelspec": {
      "display_name": "Python 3 (ipykernel)",
      "language": "python",
      "name": "python3"
    },
    "language_info": {
      "codemirror_mode": {
        "name": "ipython",
        "version": 3
      },
      "file_extension": ".py",
      "mimetype": "text/x-python",
      "name": "python",
      "nbconvert_exporter": "python",
      "pygments_lexer": "ipython3",
      "version": "3.9.12"
    }
  },
  "nbformat": 4,
  "nbformat_minor": 0
}