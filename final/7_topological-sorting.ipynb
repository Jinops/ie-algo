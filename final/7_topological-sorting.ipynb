{
 "cells": [
  {
   "cell_type": "markdown",
   "metadata": {},
   "source": [
    "# 위상정렬"
   ]
  },
  {
   "cell_type": "markdown",
   "metadata": {},
   "source": [
    "싸이클 없는, 방향이 있는 그래프"
   ]
  },
  {
   "cell_type": "markdown",
   "metadata": {},
   "source": [
    "### 알고리즘1\n",
    "- 진입간선 없는 정점 선택\n",
    "- 해당 정점을 리스트에 추가\n",
    "- 해당 정점으로부터의 진출간선 모두 제거\n",
    "- 반복"
   ]
  },
  {
   "cell_type": "code",
   "execution_count": 15,
   "metadata": {},
   "outputs": [],
   "source": [
    "V = {0:\"냄비에 물붓기\", 1:\"점화\", 2:\"라면 넣기\",\n",
    "     3:\"계란 풀어넣기\", 4:\"라면봉지 뜯기\", 5:\"스프 넣기\"}\n",
    "E = {0:{1}, 1:{2,3,5}, 2:{3}, 3:{}, 4:{2,5}, 5:{3}}  # 진출간선"
   ]
  },
  {
   "cell_type": "code",
   "execution_count": 5,
   "metadata": {},
   "outputs": [
    {
     "name": "stdout",
     "output_type": "stream",
     "text": [
      "['냄비에 물붓기', '점화', '라면봉지 뜯기', '라면 넣기', '스프 넣기', '계란 풀어넣기']\n"
     ]
    }
   ],
   "source": [
    "\n",
    "def topological_sort_1(E):\n",
    "  result = []\n",
    "  for _ in range(len(E.keys())):\n",
    "    node = get_start_node(E)\n",
    "    result.append(V[node])\n",
    "    E.pop(node)\n",
    "  return result\n",
    "\n",
    "def get_start_node(E):\n",
    "  result_node = list(E.keys())\n",
    "  for start in E.keys():\n",
    "    for end in E[start]:\n",
    "      if end in result_node:\n",
    "        result_node.remove(end)\n",
    "  return result_node[0]\n",
    "\n",
    "  \n",
    "print(topological_sort_1(E))"
   ]
  },
  {
   "cell_type": "markdown",
   "metadata": {},
   "source": [
    "### 알고리즘2 (DFS)\n",
    "- 임의의 node에 대해 DFS 진행\n",
    "- DFS를 통해 더이상 갈 수 없을 때, 그 node를 결과에 추가\n",
    "- 결과에 추가할 때 맨 앞에 추가하거나, 모든 node 진행 후 결과를 뒤집는다"
   ]
  },
  {
   "cell_type": "code",
   "execution_count": 62,
   "metadata": {},
   "outputs": [
    {
     "name": "stdout",
     "output_type": "stream",
     "text": [
      "[4, 0, 1, 5, 2, 3]\n",
      "['라면봉지 뜯기', '냄비에 물붓기', '점화', '스프 넣기', '라면 넣기', '계란 풀어넣기']\n"
     ]
    }
   ],
   "source": [
    "def topological_sort_2():\n",
    "  visited = []\n",
    "  R = []\n",
    "  for node in E.keys():\n",
    "    if node not in visited:\n",
    "      DFS_TS(node, visited, R)\n",
    "\n",
    "  return R\n",
    "\n",
    "def DFS_TS(node, visited, R):\n",
    "  visited.append(node)\n",
    "  for adj_node in E[node]:\n",
    "    if adj_node not in visited: # 순차적으로 다시 DFS\n",
    "      DFS_TS(adj_node, visited, R)\n",
    "  R.insert(0, node) # DFS의 끝지점에서, 맨앞에 node를 집어넣는다\n",
    "\n",
    "  \n",
    "print(topological_sort_2())\n",
    "print([V[i] for i in topological_sort_2()])"
   ]
  }
 ],
 "metadata": {
  "kernelspec": {
   "display_name": "Python 3",
   "language": "python",
   "name": "python3"
  },
  "language_info": {
   "codemirror_mode": {
    "name": "ipython",
    "version": 3
   },
   "file_extension": ".py",
   "mimetype": "text/x-python",
   "name": "python",
   "nbconvert_exporter": "python",
   "pygments_lexer": "ipython3",
   "version": "3.10.5"
  }
 },
 "nbformat": 4,
 "nbformat_minor": 2
}
