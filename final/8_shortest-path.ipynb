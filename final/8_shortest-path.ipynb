{
 "cells": [
  {
   "cell_type": "markdown",
   "metadata": {},
   "source": [
    "# Shortest Paths"
   ]
  },
  {
   "cell_type": "markdown",
   "metadata": {},
   "source": [
    "간선에 가중치 있는, 방향이 있는 그래프"
   ]
  },
  {
   "cell_type": "code",
   "execution_count": null,
   "metadata": {},
   "outputs": [],
   "source": [
    "V = {\"A\", \"B\", \"C\", \"D\", \"E\", \"F\", \"G\", \"H\"}\n",
    "E = { \"A\" : {\"B\":8, \"C\":11, \"D\":9},\n",
    "      \"B\" : {\"E\":10},\n",
    "      \"C\" : {\"F\":8, \"G\":8},\n",
    "      \"D\" : {\"B\":6, \"C\":3, \"E\":1},\n",
    "      \"E\" : {\"H\":2},\n",
    "      \"F\" : {\"G\":7},\n",
    "      \"G\" : {\"D\":12, \"H\":5},\n",
    "      \"H\" : {\"F\":4}\n",
    "      }"
   ]
  },
  {
   "cell_type": "markdown",
   "metadata": {},
   "source": [
    "## Dijkstra\n",
    "- 시작점으로부터, 가장 가까운 노드를 합쳐나간다\n",
    "- 이 때, 새롭게 합쳐지는 노드 주변 노드들의 거리를 업데이트한다"
   ]
  },
  {
   "cell_type": "code",
   "execution_count": 25,
   "metadata": {},
   "outputs": [
    {
     "name": "stdout",
     "output_type": "stream",
     "text": [
      "A - B\n",
      "A - C\n",
      "A - D\n",
      "B - E\n",
      "D - E\n",
      "E - H\n",
      "C - F\n",
      "C - G\n",
      "H - F\n"
     ]
    },
    {
     "data": {
      "text/plain": [
       "{'B': 8, 'H': 12, 'F': 16, 'C': 11, 'E': 10, 'A': 0, 'D': 9, 'G': 19}"
      ]
     },
     "execution_count": 25,
     "metadata": {},
     "output_type": "execute_result"
    }
   ],
   "source": [
    "import sys\n",
    "\n",
    "def Dijkstra(node):\n",
    "  S = set()\n",
    "  d = {}\n",
    "  for v in V:\n",
    "    d[v] = sys.maxsize\n",
    "  d[node] = 0\n",
    "\n",
    "  while S!=set(V):\n",
    "    new = extract_min(V-S, d) # S에 포함되지 않고, 가장 가까운 노드를\n",
    "    S.add(new) # S에 추가한다\n",
    "\n",
    "    for adj_node in E[new]: # 추가된 노드의 근처 노드에 대해\n",
    "      if adj_node in V-S and \\\n",
    "        d[adj_node] > d[new] + E[new][adj_node]: \n",
    "        # S에 포함되어있지 않고, \n",
    "        # 거리가, new 거처가는 거리보다 크면\n",
    "        d[adj_node] = d[new] + E[new][adj_node]\n",
    "        # new 거쳐가는 거리를 할당한다(업데이트 한다, 이완한다))\n",
    "        print(new, '-', adj_node)\n",
    "  \n",
    "  return d\n",
    "\n",
    "def extract_min(Q, d):\n",
    "  nearest_node = None\n",
    "  for node in Q:\n",
    "    if nearest_node is None or d[node] < d[nearest_node]:\n",
    "      nearest_node = node\n",
    "  return nearest_node\n",
    "\n",
    "\n",
    "Dijkstra('A')\n"
   ]
  },
  {
   "cell_type": "markdown",
   "metadata": {},
   "source": [
    "## Bellman-Ford\n",
    "- 한 단계가 오를 때 마다, 근처(한 칸)의 노드들을 스캔한다.\n",
    "- 해당 노드들까지의 거리를 단계마다 업데이트한다.\n",
    "\n",
    "- 음의 가중치를 허용한다. 단, 음의 싸이클은 없어야 한다."
   ]
  },
  {
   "cell_type": "code",
   "execution_count": null,
   "metadata": {},
   "outputs": [],
   "source": [
    "V2 = {\"A\", \"B\", \"C\", \"D\", \"E\", \"F\", \"G\", \"H\"}\n",
    "E2 = { \"A\" : {\"B\":8, \"C\":11, \"D\":9},\n",
    "      \"B\" : {\"E\":10},\n",
    "      \"C\" : {\"F\":8, \"G\":8},\n",
    "      \"D\" : {\"B\":-15, \"C\":3, \"E\":1},\n",
    "      \"E\" : {\"H\":2},\n",
    "      \"F\" : {\"G\":-7},\n",
    "      \"G\" : {\"D\":12, \"H\":5},\n",
    "      \"H\" : {\"F\":4}\n",
    "      }"
   ]
  },
  {
   "cell_type": "code",
   "execution_count": 67,
   "metadata": {},
   "outputs": [
    {
     "name": "stdout",
     "output_type": "stream",
     "text": [
      "0 {'B': -6, 'H': 12, 'F': 16, 'C': 11, 'E': 10, 'A': 0, 'D': 9, 'G': 12}\n",
      "1 {'B': -6, 'H': 6, 'F': 10, 'C': 11, 'E': 4, 'A': 0, 'D': 9, 'G': 9}\n",
      "2 {'B': -6, 'H': 6, 'F': 10, 'C': 11, 'E': 4, 'A': 0, 'D': 9, 'G': 3}\n",
      "3 {'B': -6, 'H': 6, 'F': 10, 'C': 11, 'E': 4, 'A': 0, 'D': 9, 'G': 3}\n",
      "4 {'B': -6, 'H': 6, 'F': 10, 'C': 11, 'E': 4, 'A': 0, 'D': 9, 'G': 3}\n",
      "5 {'B': -6, 'H': 6, 'F': 10, 'C': 11, 'E': 4, 'A': 0, 'D': 9, 'G': 3}\n",
      "6 {'B': -6, 'H': 6, 'F': 10, 'C': 11, 'E': 4, 'A': 0, 'D': 9, 'G': 3}\n"
     ]
    },
    {
     "data": {
      "text/plain": [
       "{'A': 0, 'B': -6, 'C': 11, 'D': 9, 'E': 4, 'F': 10, 'G': 3, 'H': 6}"
      ]
     },
     "execution_count": 67,
     "metadata": {},
     "output_type": "execute_result"
    }
   ],
   "source": [
    "import sys\n",
    "\n",
    "def bellman_ford(node):\n",
    "  d = {}\n",
    "  for v in V2:\n",
    "    d[v] = sys.maxsize\n",
    "  d[node] = 0\n",
    "\n",
    "  for i in range(0, len(V)-1): # 단계별로 1칸 씩 확장한다\n",
    "    for start in E: \n",
    "      for end in E[start]: # start: 확장 전 노드, end: 확장 후 노드\n",
    "        if d[end] > d[start] + E2[start][end]:\n",
    "          d[end] = d[start] + E2[start][end]\n",
    "    print(i, d)\n",
    "  \n",
    "  return dict(sorted(d.items()))\n",
    "\n",
    "bellman_ford('A')    \n"
   ]
  },
  {
   "cell_type": "code",
   "execution_count": null,
   "metadata": {},
   "outputs": [],
   "source": [
    "# TODO: DP로 구현하기"
   ]
  },
  {
   "cell_type": "markdown",
   "metadata": {},
   "source": [
    "## Floyd-Warshall\n",
    "- 모든 노드에 대한 최소 경로 찾기"
   ]
  },
  {
   "cell_type": "code",
   "execution_count": 129,
   "metadata": {},
   "outputs": [
    {
     "name": "stdout",
     "output_type": "stream",
     "text": [
      "====================================\n",
      "f\\to   A   B   C   D   E   F   G   H \n",
      "  A    0  -6  11   9   4  10   3   6 \n",
      "  B  inf   0  24  21  10  16   9  12 \n",
      "  C  inf  -2   0  13   8   8   1   6 \n",
      "  D  inf -15   3   0  -5   1  -6  -3 \n",
      "  E  inf  -4  14  11   0   6  -1   2 \n",
      "  F  inf -10   8   5   0   0  -7  -2 \n",
      "  G  inf  -3  15  12   7   9   0   5 \n",
      "  H  inf  -6  12   9   4   4  -3   0 \n",
      "====================================\n"
     ]
    }
   ],
   "source": [
    "import math\n",
    "def fw():\n",
    "  d = init_d() # from-to 테이블 초기화\n",
    "  for mid in range(0, len(V2)): # 중간경로 거친 것이 더 가까운지 계산하는 로직\n",
    "    for start in range(0, len(V2)):\n",
    "      for end in range(0, len(V2)):\n",
    "        d[start][end] = min(d[start][end], d[start][mid] + d[mid][end])\n",
    "    # print_arr(d)\n",
    "  return d\n",
    "\n",
    "def init_d(): \n",
    "  d = []\n",
    "  for start in sorted(V2):\n",
    "    line = []\n",
    "    for end in sorted(V2):\n",
    "      if start is end:\n",
    "        line.append(0) # 같은 노드는 0\n",
    "      elif end in E2[start]:\n",
    "        line.append(E2[start][end]) # 가중치 있으면 업데이트\n",
    "      else:\n",
    "        line.append(math.inf) # 가중치 없으면 inf\n",
    "    d.append(line)\n",
    "  return d\n",
    "\n",
    "def print_arr(arr):\n",
    "  print('='*36)\n",
    "  for idx, y in enumerate(arr):\n",
    "    if idx==0: # to\n",
    "      print(\"f\\\\to\", end=\" \")\n",
    "      for v in sorted(V2):\n",
    "        print(f'%3c' %v, end=\" \")\n",
    "      print()\n",
    "    print(f'%3c' %sorted(V2)[idx], end=\"  \") #from\n",
    "    for x in y:\n",
    "      print(f'%3.0f' %x, end=\" \")\n",
    "    print()\n",
    "  print('='*36)\n",
    "\n",
    "print_arr(fw())\n"
   ]
  },
  {
   "cell_type": "markdown",
   "metadata": {},
   "source": [
    "##  DAG"
   ]
  },
  {
   "cell_type": "code",
   "execution_count": null,
   "metadata": {},
   "outputs": [],
   "source": [
    "# TODO"
   ]
  },
  {
   "cell_type": "markdown",
   "metadata": {},
   "source": [
    "## SCC"
   ]
  },
  {
   "cell_type": "code",
   "execution_count": null,
   "metadata": {},
   "outputs": [],
   "source": [
    "# TODO"
   ]
  }
 ],
 "metadata": {
  "kernelspec": {
   "display_name": "Python 3",
   "language": "python",
   "name": "python3"
  },
  "language_info": {
   "codemirror_mode": {
    "name": "ipython",
    "version": 3
   },
   "file_extension": ".py",
   "mimetype": "text/x-python",
   "name": "python",
   "nbconvert_exporter": "python",
   "pygments_lexer": "ipython3",
   "version": "3.10.5"
  }
 },
 "nbformat": 4,
 "nbformat_minor": 2
}
