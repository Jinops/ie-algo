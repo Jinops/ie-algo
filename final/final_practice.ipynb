{
 "cells": [
  {
   "cell_type": "code",
   "execution_count": 15,
   "metadata": {},
   "outputs": [
    {
     "name": "stdout",
     "output_type": "stream",
     "text": [
      "8\n"
     ]
    }
   ],
   "source": [
    "# DP - bottom up:\n",
    "def fibo(n):\n",
    "  dp = [None] * n\n",
    "  dp[0] = 1 \n",
    "  dp[1] = 1\n",
    "\n",
    "  for i in range(2, n):\n",
    "    dp[i] = dp[i-1] + dp[i-2]\n",
    "\n",
    "  return dp[n-1]\n",
    "\n",
    "print(fibo(6))\n"
   ]
  },
  {
   "cell_type": "code",
   "execution_count": 20,
   "metadata": {},
   "outputs": [
    {
     "name": "stdout",
     "output_type": "stream",
     "text": [
      "8\n"
     ]
    }
   ],
   "source": [
    "# DP - top-down:\n",
    "def fibo(n):\n",
    "  if dp[n] is not None:\n",
    "    return dp[n]\n",
    "  return fibo(n-1)+fibo(n-2)\n",
    "  \n",
    "dp = [None] * (6+1)\n",
    "dp[1] = 1\n",
    "dp[2] = 1\n",
    "print(fibo(6))"
   ]
  }
 ],
 "metadata": {
  "kernelspec": {
   "display_name": "Python 3",
   "language": "python",
   "name": "python3"
  },
  "language_info": {
   "codemirror_mode": {
    "name": "ipython",
    "version": 3
   },
   "file_extension": ".py",
   "mimetype": "text/x-python",
   "name": "python",
   "nbconvert_exporter": "python",
   "pygments_lexer": "ipython3",
   "version": "3.10.5"
  }
 },
 "nbformat": 4,
 "nbformat_minor": 2
}
