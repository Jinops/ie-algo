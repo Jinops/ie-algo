{
 "cells": [
  {
   "cell_type": "code",
   "execution_count": 1,
   "id": "17dcade7",
   "metadata": {},
   "outputs": [
    {
     "name": "stdout",
     "output_type": "stream",
     "text": [
      "4 [29, 10, 14, 13] [37]\n",
      "3 [13, 10, 14] [29, 37]\n",
      "2 [13, 10] [14, 29, 37]\n",
      "1 [10] [13, 14, 29, 37]\n"
     ]
    },
    {
     "data": {
      "text/plain": [
       "[10, 13, 14, 29, 37]"
      ]
     },
     "execution_count": 1,
     "metadata": {},
     "output_type": "execute_result"
    }
   ],
   "source": [
    "# selection sort\n",
    "# 오른쪽부터 채워넣는, 오름차순\n",
    "\n",
    "def selection_sort(arr):\n",
    "    for last_idx in range(len(arr)-1, 0, -1): # 현재 탐색 영역의 마지막 idx\n",
    "        max_idx = 0 # 현재 가장 큰 값이 있는 idx\n",
    "        \n",
    "        for i in range(1, last_idx+1): # 탐색\n",
    "            if arr[i] > arr[max_idx]:\n",
    "                max_idx = i\n",
    "                \n",
    "        arr[max_idx], arr[last_idx] = arr[last_idx], arr[max_idx]\n",
    "        print(i, arr[:last_idx], arr[last_idx:]) # 과정\n",
    "\n",
    "    return arr\n",
    "\n",
    "selection_sort([29,10,14,37,13])"
   ]
  },
  {
   "cell_type": "code",
   "execution_count": 2,
   "id": "3816d3ea",
   "metadata": {},
   "outputs": [
    {
     "name": "stdout",
     "output_type": "stream",
     "text": [
      "[3, 31, 48, 73, 8, 11, 20, 29, 65, 15]\n",
      "9 [3, 31, 48, 8, 11, 20, 29, 65, 15] [73]\n",
      "8 [3, 31, 8, 11, 20, 29, 48, 15] [65, 73]\n",
      "7 [3, 8, 11, 20, 29, 31, 15] [48, 65, 73]\n",
      "6 [3, 8, 11, 20, 29, 15] [31, 48, 65, 73]\n",
      "5 [3, 8, 11, 20, 15] [29, 31, 48, 65, 73]\n",
      "4 [3, 8, 11, 15] [20, 29, 31, 48, 65, 73]\n",
      "3 [3, 8, 11] [15, 20, 29, 31, 48, 65, 73]\n",
      "2 [3, 8] [11, 15, 20, 29, 31, 48, 65, 73]\n",
      "1 [3] [8, 11, 15, 20, 29, 31, 48, 65, 73]\n"
     ]
    },
    {
     "data": {
      "text/plain": [
       "[3, 8, 11, 15, 20, 29, 31, 48, 65, 73]"
      ]
     },
     "execution_count": 2,
     "metadata": {},
     "output_type": "execute_result"
    }
   ],
   "source": [
    "# bubble sort\n",
    "# 오른쪽부터 채워넣는, 오름차순\n",
    "\n",
    "def bubble_sort(arr):\n",
    "    for last_idx in range(len(arr)-1, 0, -1): # 채워넣어질 idx\n",
    "        \n",
    "        for i in range(1, last_idx+1):\n",
    "            if arr[i-1] > arr[i]: # 바로 전 값이 더 크면, 둘이 위치 교체\n",
    "                arr[i-1], arr[i] = arr[i], arr[i-1]\n",
    "                \n",
    "        print(i, arr[:last_idx], arr[last_idx:]) # 과정\n",
    "    return arr\n",
    "        \n",
    "arr = [3, 31, 48, 73, 8, 11, 20, 29, 65, 15]\n",
    "print(arr)\n",
    "bubble_sort(arr)"
   ]
  },
  {
   "cell_type": "code",
   "execution_count": 6,
   "id": "7f4b78da",
   "metadata": {},
   "outputs": [
    {
     "name": "stdout",
     "output_type": "stream",
     "text": [
      "[29, 10, 14, 37, 13]\n",
      "1 [10, 29] [14, 37, 13]\n",
      "2 [10, 14, 29] [37, 13]\n",
      "3 [10, 14, 29, 37] [13]\n"
     ]
    },
    {
     "data": {
      "text/plain": [
       "[10, 14, 29, 37, 13]"
      ]
     },
     "execution_count": 6,
     "metadata": {},
     "output_type": "execute_result"
    }
   ],
   "source": [
    "# insert sort\n",
    "# 왼쪽으로 밀어넣는, 오름차순\n",
    "\n",
    "def insert_sort(arr):\n",
    "    for i in range(1, len(arr)-1):\n",
    "        base = arr[i]\n",
    "        target_idx = i-1\n",
    "        \n",
    "        while target_idx >= 0 and base < arr[target_idx]:\n",
    "            arr[target_idx+1] = arr[target_idx]\n",
    "            target_idx -= 1\n",
    "            \n",
    "        arr[target_idx+1] = base\n",
    "        print(i, arr[:i+1], arr[i+1:])\n",
    "        \n",
    "    return arr\n",
    "\n",
    "arr = [29, 10, 14, 37, 13]\n",
    "print(arr)\n",
    "insert_sort(arr)"
   ]
  },
  {
   "cell_type": "code",
   "execution_count": 17,
   "id": "593fa820",
   "metadata": {},
   "outputs": [
    {
     "name": "stdout",
     "output_type": "stream",
     "text": [
      "[31, 3, 65, 73, 8, 11, 20, 29, 48, 15]\n"
     ]
    },
    {
     "data": {
      "text/plain": [
       "[3, 8, 11, 15, 20, 29, 31, 48, 65, 73]"
      ]
     },
     "execution_count": 17,
     "metadata": {},
     "output_type": "execute_result"
    }
   ],
   "source": [
    "# merge sort\n",
    "\n",
    "def merge_sort(arr, start, end):\n",
    "    if start >= end:\n",
    "        return\n",
    "    mid = int((start+end)/2)\n",
    "    merge_sort(arr, start, mid)\n",
    "    merge_sort(arr, mid+1, end)\n",
    "    merge(arr, start, mid, end)\n",
    "    return arr\n",
    "\n",
    "def merge(arr, start, mid, end): # mid는 왼쪽배열의 마지막 idx\n",
    "    l_start = start\n",
    "    l_end = mid\n",
    "    r_start = mid+1\n",
    "    r_end = end\n",
    "    \n",
    "    get_len = lambda start, end : end-start+1 \n",
    "    result = []\n",
    "    \n",
    "    while get_len(l_start, l_end) > 0 and get_len(r_start, r_end):\n",
    "        if arr[l_start] < arr[r_start]:\n",
    "            result.append(arr[l_start])\n",
    "            l_start +=1\n",
    "        else:\n",
    "            result.append(arr[r_start])\n",
    "            r_start +=1\n",
    "            \n",
    "    for remain in range(l_start, l_end+1):\n",
    "        result.append(arr[remain])\n",
    "    for remain in range(r_start, r_end+1):\n",
    "        result.append(arr[remain])\n",
    "        \n",
    "    arr[start:end+1] = result\n",
    "\n",
    "arr = [31, 3, 65, 73, 8, 11, 20, 29, 48, 15]\n",
    "print(arr)\n",
    "merge_sort(arr, 0, len(arr)-1)\n",
    "    "
   ]
  },
  {
   "cell_type": "code",
   "execution_count": 21,
   "id": "a8669bd2",
   "metadata": {},
   "outputs": [
    {
     "name": "stdout",
     "output_type": "stream",
     "text": [
      "[31, 8, 48, 73, 11, 3, 20, 29, 65, 15]\n",
      "[8, 11, 3] 15 [31, 48, 20, 29, 65, 73]\n",
      "[] 3 [11, 8]\n",
      "[] 8 [11]\n",
      "[31, 48, 20, 29, 65] 73 []\n",
      "[31, 48, 20, 29] 65 []\n",
      "[20] 29 [31, 48]\n",
      "[31] 48 []\n"
     ]
    },
    {
     "data": {
      "text/plain": [
       "[3, 8, 11, 15, 20, 29, 31, 48, 65, 73]"
      ]
     },
     "execution_count": 21,
     "metadata": {},
     "output_type": "execute_result"
    }
   ],
   "source": [
    "# quick sort\n",
    "\n",
    "def quick_sort(arr, start, end):\n",
    "    if start >= end:\n",
    "        return\n",
    "    mid = partition(arr, start, end)\n",
    "    quick_sort(arr, start, mid-1)\n",
    "    quick_sort(arr, mid+1, end)\n",
    "    return arr\n",
    "\n",
    "def partition(arr, start, end):\n",
    "    base = arr[end]\n",
    "    mid = start - 1 # mid는 나눠지는 위치, 초기값은 모든 수가 오른쪽(큰 영역)에 있음을 가정\n",
    "    for i in range(start, end):\n",
    "        if arr[i] < base:\n",
    "            mid += 1\n",
    "            if mid != i:\n",
    "                arr[mid], arr[i] = arr[i], arr[mid]\n",
    "    mid += 1\n",
    "    arr[mid], arr[end] = arr[end], arr[mid]\n",
    "    print(arr[start:mid], arr[mid], arr[mid+1:end+1])\n",
    "    \n",
    "    return mid\n",
    "\n",
    "arr = [31, 8, 48, 73, 11, 3, 20, 29, 65, 15]\n",
    "print(arr)\n",
    "quick_sort(arr, 0, len(arr)-1)\n",
    "        "
   ]
  },
  {
   "cell_type": "code",
   "execution_count": null,
   "id": "74274b2d",
   "metadata": {},
   "outputs": [],
   "source": [
    "# heap\n",
    "\n"
   ]
  }
 ],
 "metadata": {
  "kernelspec": {
   "display_name": "Python 3 (ipykernel)",
   "language": "python",
   "name": "python3"
  },
  "language_info": {
   "codemirror_mode": {
    "name": "ipython",
    "version": 3
   },
   "file_extension": ".py",
   "mimetype": "text/x-python",
   "name": "python",
   "nbconvert_exporter": "python",
   "pygments_lexer": "ipython3",
   "version": "3.9.13"
  }
 },
 "nbformat": 4,
 "nbformat_minor": 5
}
